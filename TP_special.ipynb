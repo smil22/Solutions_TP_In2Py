{
 "cells": [
  {
   "cell_type": "code",
   "execution_count": 3,
   "metadata": {},
   "outputs": [
    {
     "name": "stdout",
     "output_type": "stream",
     "text": [
      "A number: 8\n",
      "28\n",
      "A number: 9\n",
      "10395\n"
     ]
    }
   ],
   "source": [
    "#1\n",
    "#i\n",
    "n = input(\"A number: \")\n",
    "somme = 0\n",
    "for i in range(1,n,2):\n",
    "    somme = somme + (i+3)\n",
    "print(somme)\n",
    "#ii\n",
    "n = input(\"A number: \")\n",
    "produit = 1\n",
    "for i in range(0,n,2):\n",
    "    produit = produit * (i+3)\n",
    "print(produit)"
   ]
  },
  {
   "cell_type": "code",
   "execution_count": 10,
   "metadata": {},
   "outputs": [
    {
     "name": "stdout",
     "output_type": "stream",
     "text": [
      "Which day number ? 4\n",
      "Vendredi is a working day.\n"
     ]
    }
   ],
   "source": [
    "#2\n",
    "semaine = {0: 'Lundi', 1: 'Mardi', 2: 'Mercredi', 3: 'Jeudi', 4: 'Vendredi', 5: 'Samedi', 6: 'Dimanche', 'Working day': [0,1,2,3,4], 'Weekend' : [5,6]}\n",
    "n = input(\"Which day number ? \")\n",
    "if n in semaine['Working day']:\n",
    "    print(str(semaine[n]) + \" is a working day.\")\n",
    "elif n in semaine['Weekend']:\n",
    "    print(\"It's the weekend !\")\n",
    "else:\n",
    "    print(\"Maybe you entered a wrong number.\")"
   ]
  },
  {
   "cell_type": "code",
   "execution_count": 19,
   "metadata": {},
   "outputs": [
    {
     "name": "stdout",
     "output_type": "stream",
     "text": [
      "Month number: 4\n",
      "31 days.\n"
     ]
    }
   ],
   "source": [
    "#3\n",
    "thirtyone = [0,2,4,6,7,11]\n",
    "thirty = [3,5,8,9,10]\n",
    "no = input(\"Month number: \")\n",
    "while(no<0 or no>11):\n",
    "    no = input(\"Month number: \")\n",
    "if(no!=2):\n",
    "    if no in thirtyone:\n",
    "        print(\"31 days.\")\n",
    "    else:\n",
    "        print(\"30 days.\")\n",
    "else:\n",
    "    year = input(\"Year: \")\n",
    "    if((year%4==0 and year%100!=0) or year%400==0):\n",
    "        print(\"29 days.\")\n",
    "    else:\n",
    "        print(\"28 days.\")"
   ]
  },
  {
   "cell_type": "code",
   "execution_count": 21,
   "metadata": {},
   "outputs": [
    {
     "name": "stdout",
     "output_type": "stream",
     "text": [
      "Your name: cot\n",
      "cot\n",
      "cot\n",
      "cot\n",
      "cot\n",
      "cot\n",
      "cot\n"
     ]
    }
   ],
   "source": [
    "#4\n",
    "name = raw_input(\"Your name: \")\n",
    "for i in range(3):\n",
    "    print(name)\n",
    "    \n",
    "i = 0\n",
    "while(i < 3):\n",
    "    print(name)\n",
    "    i += 1"
   ]
  },
  {
   "cell_type": "code",
   "execution_count": 22,
   "metadata": {},
   "outputs": [
    {
     "name": "stdout",
     "output_type": "stream",
     "text": [
      "First value: 0\n",
      "Second value: 1\n",
      "1\n",
      "2\n",
      "3\n",
      "5\n",
      "8\n",
      "13\n",
      "21\n",
      "34\n",
      "55\n",
      "89\n",
      "144\n",
      "233\n",
      "377\n",
      "610\n",
      "987\n"
     ]
    }
   ],
   "source": [
    "#5\n",
    "i1 = input(\"First value: \")\n",
    "i2 = input(\"Second value: \")\n",
    "suit = 0\n",
    "for i in range(15):\n",
    "    suit = i1 + i2\n",
    "    print(suit)\n",
    "    i1 = i2\n",
    "    i2 = suit"
   ]
  },
  {
   "cell_type": "code",
   "execution_count": 26,
   "metadata": {},
   "outputs": [
    {
     "name": "stdout",
     "output_type": "stream",
     "text": [
      "First value: 2\n",
      "Second value: 3\n",
      "7\n",
      "12\n",
      "27\n",
      "49\n",
      "105\n",
      "199\n",
      "414\n",
      "804\n",
      "1644\n",
      "3234\n",
      "6549\n",
      "12976\n",
      "26135\n",
      "51995\n",
      "104402\n",
      "208186\n",
      "417299\n",
      "833207\n",
      "1668500\n",
      "3333871\n",
      "6672435\n",
      "13337830\n",
      "26686220\n",
      "53356600\n",
      "106736960\n",
      "213438280\n",
      "426930020\n",
      "853779850\n",
      "1707679985\n",
      "3415179542\n"
     ]
    }
   ],
   "source": [
    "#6\n",
    "x0 = input(\"First value: \")\n",
    "x1 = input(\"Second value: \")\n",
    "x = 0\n",
    "for i in range(30):\n",
    "    x = (x1 + 6*x0)/2\n",
    "    print(x)\n",
    "    x0 = x1\n",
    "    x1 = x"
   ]
  },
  {
   "cell_type": "code",
   "execution_count": 27,
   "metadata": {},
   "outputs": [
    {
     "name": "stdout",
     "output_type": "stream",
     "text": [
      "Year: 2024\n",
      "True\n"
     ]
    }
   ],
   "source": [
    "#7\n",
    "year = input(\"Year: \")\n",
    "leap = ((year%4==0 and year%100!=0) or year%400==0)\n",
    "print(leap)"
   ]
  },
  {
   "cell_type": "code",
   "execution_count": 32,
   "metadata": {},
   "outputs": [
    {
     "name": "stdout",
     "output_type": "stream",
     "text": [
      "A number: 5\n",
      "30\n",
      "30\n",
      "A number: 9\n",
      "3\n",
      "A number: 9\n",
      "3\n"
     ]
    }
   ],
   "source": [
    "#8\n",
    "#a\n",
    "sum = 0\n",
    "n = input(\"A number: \")\n",
    "for i in range(n):\n",
    "    sum = sum + i**2\n",
    "print(sum)\n",
    "\n",
    "i = 0\n",
    "sum = 0\n",
    "while(i < n):\n",
    "    sum = sum + i**2\n",
    "    i += 1\n",
    "print(sum)\n",
    "\n",
    "#b\n",
    "#for loop\n",
    "M = input(\"A number: \")\n",
    "i = 0\n",
    "n = 0\n",
    "while(1):\n",
    "    sum = 0\n",
    "    for j in range(1,i+1):\n",
    "        sum = sum + j**2\n",
    "    if(sum >= M):\n",
    "        n = i\n",
    "        break\n",
    "    i += 1\n",
    "print(n)\n",
    "\n",
    "#while loop\n",
    "M = input(\"A number: \")\n",
    "i = 0\n",
    "n = 0\n",
    "j = 0\n",
    "while(1):\n",
    "    sum = 0\n",
    "    j = 0\n",
    "    while(j < i+1):\n",
    "        sum = sum + j**2\n",
    "        j += 1\n",
    "    if(sum >= M):\n",
    "        n = i\n",
    "        break\n",
    "    i += 1\n",
    "print(n)"
   ]
  },
  {
   "cell_type": "code",
   "execution_count": 36,
   "metadata": {},
   "outputs": [
    {
     "name": "stdout",
     "output_type": "stream",
     "text": [
      "A number: 14\n",
      "1\n",
      "2\n",
      "7\n",
      "14\n",
      "A number: 18\n",
      "2\n",
      "3\n"
     ]
    }
   ],
   "source": [
    "#9\n",
    "#a\n",
    "n = input(\"A number: \")\n",
    "for i in range(1, n+1):\n",
    "    if(n % i == 0):\n",
    "        print(i)\n",
    "\n",
    "#b\n",
    "n = input(\"A number: \")\n",
    "divisor = 0\n",
    "for i in range(2, n+1):\n",
    "    divisor = 0\n",
    "    if(n % i == 0):\n",
    "        for j in range(2, i):\n",
    "            if(i % j == 0):\n",
    "                divisor = 1\n",
    "                break\n",
    "        if(divisor == 0):\n",
    "            print(i)"
   ]
  },
  {
   "cell_type": "code",
   "execution_count": 38,
   "metadata": {},
   "outputs": [
    {
     "name": "stdout",
     "output_type": "stream",
     "text": [
      "A number: 4\n",
      "Limit: 14\n",
      "4x0=0\n",
      "4x1=4\n",
      "4x2=8\n",
      "4x3=12\n",
      "4x4=16\n",
      "4x5=20\n",
      "4x6=24\n",
      "4x7=28\n",
      "4x8=32\n",
      "4x9=36\n",
      "4x10=40\n",
      "4x11=44\n",
      "4x12=48\n",
      "4x13=52\n",
      "4x14=56\n"
     ]
    }
   ],
   "source": [
    "#10\n",
    "n = input(\"A number: \")\n",
    "while(n < 0 or n > 9):\n",
    "    print(\"Bad number.\")\n",
    "N = input(\"Limit: \")\n",
    "for i in range(N+1):\n",
    "    print(str(n) + 'x' + str(i) + '=' + str(n*i))"
   ]
  },
  {
   "cell_type": "code",
   "execution_count": 39,
   "metadata": {},
   "outputs": [
    {
     "name": "stdout",
     "output_type": "stream",
     "text": [
      "0\n",
      "3\n",
      "6\n",
      "7\n",
      "9\n",
      "11\n",
      "12\n",
      "14\n",
      "15\n",
      "18\n",
      "21\n",
      "22\n",
      "24\n",
      "27\n",
      "28\n",
      "30\n",
      "33\n",
      "35\n",
      "36\n",
      "39\n"
     ]
    }
   ],
   "source": [
    "#11\n",
    "for i in range(0, 41):\n",
    "    if(i % 3 == 0 or i % 7 == 0 or i % 11 == 0):\n",
    "        print(i)"
   ]
  },
  {
   "cell_type": "code",
   "execution_count": 41,
   "metadata": {},
   "outputs": [
    {
     "name": "stdout",
     "output_type": "stream",
     "text": [
      "Enter a float: 4.58946\n",
      "4.0\n"
     ]
    }
   ],
   "source": [
    "#12\n",
    "from math import floor\n",
    "f = input(\"Enter a float: \")\n",
    "print(floor(f))"
   ]
  },
  {
   "cell_type": "code",
   "execution_count": 44,
   "metadata": {},
   "outputs": [
    {
     "name": "stdout",
     "output_type": "stream",
     "text": [
      "Enter x: 5\n",
      "Enter y: 7\n",
      "Fisrt quadrant\n",
      "Wanna continue ? no\n"
     ]
    }
   ],
   "source": [
    "#13\n",
    "answer = \"no\"\n",
    "while(1):\n",
    "    x = input(\"Enter x: \") \n",
    "    y = input(\"Enter y: \")\n",
    "    if(x > 0 and y > 0):\n",
    "        print(\"Fisrt quadrant\")\n",
    "    elif(x > 0 and y < 0):\n",
    "        print(\"Fourth quadrant\")\n",
    "    elif(x < 0 and y > 0):\n",
    "        print(\"Second quadrant\")\n",
    "    else:\n",
    "        print(\"Third quadrant\")\n",
    "    answer = raw_input(\"Wanna continue ? \")\n",
    "    if(answer == \"no\"):\n",
    "        break"
   ]
  },
  {
   "cell_type": "code",
   "execution_count": 45,
   "metadata": {},
   "outputs": [
    {
     "name": "stdout",
     "output_type": "stream",
     "text": [
      "An integer: 5\n",
      "An integer: 159\n",
      "0\n",
      "5\n",
      "10\n",
      "15\n",
      "20\n",
      "25\n",
      "30\n",
      "35\n",
      "40\n",
      "45\n",
      "50\n",
      "55\n",
      "60\n",
      "65\n",
      "70\n",
      "75\n",
      "80\n",
      "85\n",
      "90\n",
      "95\n",
      "100\n",
      "105\n",
      "110\n",
      "115\n",
      "120\n",
      "125\n",
      "130\n",
      "135\n",
      "140\n",
      "145\n",
      "150\n",
      "155\n",
      "Wanna continue ? no\n"
     ]
    }
   ],
   "source": [
    "#14\n",
    "x = input(\"An integer: \")\n",
    "while(n < 0 or n > 9):\n",
    "    x = input(\"An integer: \")\n",
    "    \n",
    "MAX = input(\"An integer: \")\n",
    "while(MAX < 0 or MAX > 255):\n",
    "    MAX = input(\"An integer: \")\n",
    "    \n",
    "for i in range(0, MAX):\n",
    "    if(i % x == 0):\n",
    "        print(i)\n",
    "\n",
    "answer = raw_input(\"Wanna continue ? \")\n",
    "if(answer == \"yes\"):\n",
    "    x = input(\"An integer: \")\n",
    "    while(n < 0 or n > 9):\n",
    "        x = input(\"An integer: \")\n",
    "        \n",
    "    MAX = input(\"An integer: \")\n",
    "    while(MAX < 0 or MAX > 255):\n",
    "        MAX = input(\"An integer: \") \n",
    "        \n",
    "        for i in range(0, MAX):\n",
    "            if(i % x == 0):\n",
    "                print(i)"
   ]
  }
 ],
 "metadata": {
  "kernelspec": {
   "display_name": "Python 3",
   "language": "python",
   "name": "python3"
  },
  "language_info": {
   "codemirror_mode": {
    "name": "ipython",
    "version": 2
   },
   "file_extension": ".py",
   "mimetype": "text/x-python",
   "name": "python",
   "nbconvert_exporter": "python",
   "pygments_lexer": "ipython2",
   "version": "2.7.17"
  }
 },
 "nbformat": 4,
 "nbformat_minor": 2
}
