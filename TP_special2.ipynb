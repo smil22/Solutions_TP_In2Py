{
 "cells": [
  {
   "cell_type": "code",
   "execution_count": 25,
   "metadata": {},
   "outputs": [
    {
     "name": "stdout",
     "output_type": "stream",
     "text": [
      "Enter x: 4\n",
      "Enter y: 5\n",
      "-76.74557743969335\n"
     ]
    }
   ],
   "source": [
    "#1\n",
    "from math import sqrt,sin\n",
    "x = float(input(\"Enter x: \"))\n",
    "y = float(input(\"Enter y: \"))\n",
    "def f(x,y):\n",
    "    \"\"\"Computes f(x) value\"\"\"\n",
    "    if(x != 0):\n",
    "        return sqrt(pow(x, (2+y)))/((1/x)+2*sin(y))\n",
    "print(f(x,y))"
   ]
  },
  {
   "cell_type": "code",
   "execution_count": 10,
   "metadata": {},
   "outputs": [
    {
     "name": "stdout",
     "output_type": "stream",
     "text": [
      "8\n"
     ]
    }
   ],
   "source": [
    "#2\n",
    "def ownpowerfn(b,n):\n",
    "    \"\"\"Computes b raised to n\"\"\"\n",
    "    if(n > 0):\n",
    "        p = 1\n",
    "        for i in range(n):\n",
    "            p = p*b\n",
    "    return p\n",
    "print(ownpowerfn(2,3))"
   ]
  },
  {
   "cell_type": "code",
   "execution_count": 17,
   "metadata": {},
   "outputs": [
    {
     "name": "stdout",
     "output_type": "stream",
     "text": [
      "5.5\n",
      "5.477225575051661\n",
      "32.0\n",
      "0.0\n",
      "3.141592653589793\n",
      "180.0\n",
      "31.41592653589793\n",
      "78.53981633974483\n"
     ]
    }
   ],
   "source": [
    "#3\n",
    "#a\n",
    "from math import sqrt,pi\n",
    "def arithmetic_mean(a,b):\n",
    "    \"\"\"Computes a and b arithmetic mean\"\"\"\n",
    "    return (a+b)/2\n",
    "\n",
    "def geometric_mean(a,b):\n",
    "    \"\"\"Computes a and b geometric mean\"\"\"\n",
    "    return sqrt(a*b)\n",
    "\n",
    "print(arithmetic_mean(5,6))\n",
    "print(geometric_mean(5,6))\n",
    "\n",
    "#b\n",
    "def celcius_to_fahrenheit(c):\n",
    "    \"\"\"Convert a temperature from celsius to fahrenheit\"\"\"\n",
    "    return (c*9/5)+32\n",
    "\n",
    "def fahrenheit_to_celcius(f):\n",
    "    \"\"\"Convert a temperature from fahrenheit to celsius\"\"\"\n",
    "    return (5/9)*(f-32)\n",
    "\n",
    "print(celcius_to_fahrenheit(0))\n",
    "print(fahrenheit_to_celcius(32))\n",
    "\n",
    "#c\n",
    "def degrees_to_radians(d):\n",
    "    \"\"\"Convert angle from degree to radian\"\"\"\n",
    "    return (pi*d)/180\n",
    "\n",
    "def radians_to_degrees(r):\n",
    "    \"\"\"Convert angle from radian to degree\"\"\"\n",
    "    return (r*180)/pi\n",
    "\n",
    "print(degrees_to_radians(180))\n",
    "print(radians_to_degrees(pi))\n",
    "\n",
    "#d\n",
    "def circumference(r):\n",
    "    \"\"\"Computes the circumference\"\"\"\n",
    "    return 2 * pi * r\n",
    "\n",
    "def area(r):\n",
    "    \"\"\"Computes the area\"\"\"\n",
    "    return pi * r**2\n",
    "\n",
    "print(circumference(5))\n",
    "print(area(5))\n"
   ]
  },
  {
   "cell_type": "code",
   "execution_count": 26,
   "metadata": {},
   "outputs": [
    {
     "name": "stdout",
     "output_type": "stream",
     "text": [
      "2.5 2.449489742783178\n",
      "2.474744871391589 2.4746160019198826\n",
      "2.474680436655736 2.474680435816873\n",
      "2.474680436236304 2.4746804362363046\n",
      "2.474680436236304 2.4746804362363046\n",
      "2.474680436236304 2.4746804362363046\n",
      "2.474680436236304 2.4746804362363046\n",
      "2.474680436236304 2.4746804362363046\n",
      "2.474680436236304 2.4746804362363046\n",
      "2.474680436236304 2.4746804362363046\n",
      "Point  1 :\n",
      "Abscisse: 7\n",
      "Ordonnée: 4\n",
      "Point  2 :\n",
      "Abscisse: 5\n",
      "Ordonnée: 1\n",
      "Point  3 :\n",
      "Abscisse: 7\n",
      "Ordonnée: 5\n",
      "Périmètre:  9.07768723046357\n",
      "Aire:  1.0\n"
     ]
    }
   ],
   "source": [
    "#4\n",
    "#a\n",
    "from math import sqrt\n",
    "def arithmetic_mean(a,b):\n",
    "    \"\"\"Computes a and b arithmetic mean\"\"\"\n",
    "    return (a+b)/2\n",
    "\n",
    "def geometric_mean(a,b):\n",
    "    \"\"\"Computes a and b geometric mean\"\"\"\n",
    "    return sqrt(a*b)\n",
    "\n",
    "def avggeom(a,b):\n",
    "    \"\"\"Computes as described in the task\"\"\"\n",
    "    print(arithmetic_mean(a,b), geometric_mean(a,b))\n",
    "   \n",
    "a = 2\n",
    "b = 3\n",
    "for i in range(10):\n",
    "    avggeom(a,b)\n",
    "    c = a\n",
    "    d = b\n",
    "    a = arithmetic_mean(c,d)\n",
    "    b = geometric_mean(c,d)\n",
    "    \n",
    "#b\n",
    "def distancefn(x1, y1, x2, y2):\n",
    "    \"\"\"Computes the distance between two points with given co-ordinates\"\"\"\n",
    "    return sqrt((x2-x1)**2 + (y2-y1)**2)\n",
    "\n",
    "def dimension(X, Y, i, j):\n",
    "    \"\"\"Returns the distance between two given points\"\"\"\n",
    "    return distancefn(X[i], Y[i], X[j], Y[j])\n",
    "\n",
    "X = []\n",
    "Y = []\n",
    "for i in range(3):\n",
    "    print(\"Point \", i+1, \":\")\n",
    "    x = float(input(\"Abscisse: \"))\n",
    "    y = float(input(\"Ordonnée: \"))\n",
    "    X.append(x)\n",
    "    Y.append(y)\n",
    "\n",
    "d1 = dimension(X,Y,0,1)\n",
    "d2 = dimension(X,Y,0,2)\n",
    "d3 = dimension(X,Y,1,2)\n",
    "print(\"Périmètre: \", d1+d2+d3)\n",
    "print(\"Aire: \", abs((1/2)*(X[0]*(Y[1]-Y[2]) + X[1]*(Y[2]-Y[0]) + X[2]*(Y[0]-Y[1]))))\n"
   ]
  },
  {
   "cell_type": "code",
   "execution_count": 2,
   "metadata": {},
   "outputs": [
    {
     "name": "stdout",
     "output_type": "stream",
     "text": [
      "1. Evaluation of factorial\n",
      "2. Evaluation of a second degree equation\n",
      "3. Exit\n",
      "Votre choix: 1\n",
      "An integer: 5\n",
      "120\n",
      "1. Evaluation of factorial\n",
      "2. Evaluation of a second degree equation\n",
      "3. Exit\n",
      "Votre choix: 2\n",
      "First coeficient: 3\n",
      "Second: 5\n",
      "Third: 7\n",
      "Désolé, pas de racine réelle.\n",
      "1. Evaluation of factorial\n",
      "2. Evaluation of a second degree equation\n",
      "3. Exit\n",
      "Votre choix: 3\n"
     ]
    }
   ],
   "source": [
    "#5\n",
    "def Discriminant(a,b,c):\n",
    "    \"\"\"Retourne le discriminant de f(x)\"\"\"\n",
    "    if(a != 0):\n",
    "        delta = b**2 - 4*a*c\n",
    "        return delta\n",
    "\n",
    "def existence_des_racines_du_trinome(a,b,c):\n",
    "    \"\"\"Discute suivant les valeurs du discriminant, l'existence de ses racines\"\"\"\n",
    "    delta = Discriminant(a,b,c)\n",
    "    if(a != 0):\n",
    "        if(delta < 0):\n",
    "            print(\"Désolé, pas de racine réelle.\")\n",
    "        elif(delta == 0):\n",
    "            print(\"Racine double.\")\n",
    "            print(-b/(2*a))\n",
    "        else:\n",
    "            print(\"Deux racines distinctes.\")\n",
    "            print((-b - sqrt(delta))/(2*a), (-b + sqrt(delta))/(2*a))\n",
    "\n",
    "            \n",
    "def factorielle(n):\n",
    "    \"\"\"Computes n factorial\"\"\"\n",
    "    f = 1\n",
    "    for i in range(1,n+1):\n",
    "        f = f * i\n",
    "    return f\n",
    "\n",
    "\n",
    "def fact2nddeg():\n",
    "    \"\"\"Gives the menu and lets the user make a choice\"\"\"\n",
    "    exit = \"no\"\n",
    "    choice = 0\n",
    "    while(exit != \"yes\"):\n",
    "        print(\"1. Evaluation of factorial\")\n",
    "        print(\"2. Evaluation of a second degree equation\")\n",
    "        print(\"3. Exit\")\n",
    "        choice = int(input(\"Votre choix: \"))\n",
    "        while(choice < 1 or choice > 3):\n",
    "            choice = int(input(\"Votre choix: \"))\n",
    "        if(choice == 1):\n",
    "            n = int(input(\"An integer: \"))\n",
    "            print(factorielle(n))\n",
    "        elif(choice == 2):\n",
    "            a = int(input(\"First coeficient: \"))\n",
    "            b = int(input(\"Second: \"))\n",
    "            c = int(input(\"Third: \"))\n",
    "            existence_des_racines_du_trinome(a,b,c)\n",
    "        else:\n",
    "            exit = \"yes\"\n",
    "            \n",
    "fact2nddeg()"
   ]
  },
  {
   "cell_type": "code",
   "execution_count": 16,
   "metadata": {},
   "outputs": [
    {
     "name": "stdout",
     "output_type": "stream",
     "text": [
      "128\n"
     ]
    }
   ],
   "source": [
    "#6\n",
    "def power(x,n):\n",
    "    \"\"\"Computes recursively x raised to n\"\"\"\n",
    "    return x*pow(x,n-1)\n",
    "\n",
    "print(power(2,7))"
   ]
  },
  {
   "cell_type": "code",
   "execution_count": 24,
   "metadata": {},
   "outputs": [
    {
     "name": "stdout",
     "output_type": "stream",
     "text": [
      "89\n"
     ]
    }
   ],
   "source": [
    "#7\n",
    "def fibo(n):\n",
    "    \"\"\"Returns fibonacci term value for n index\"\"\"\n",
    "    if(n == 0):\n",
    "        return 0\n",
    "    if(n == 1):\n",
    "        return 1\n",
    "    return fibo(n-1) + fibo(n-2)\n",
    "\n",
    "print(fibo(11))"
   ]
  },
  {
   "cell_type": "code",
   "execution_count": null,
   "metadata": {},
   "outputs": [],
   "source": []
  }
 ],
 "metadata": {
  "kernelspec": {
   "display_name": "Python 3",
   "language": "python",
   "name": "python3"
  },
  "language_info": {
   "codemirror_mode": {
    "name": "ipython",
    "version": 3
   },
   "file_extension": ".py",
   "mimetype": "text/x-python",
   "name": "python",
   "nbconvert_exporter": "python",
   "pygments_lexer": "ipython3",
   "version": "3.6.9"
  }
 },
 "nbformat": 4,
 "nbformat_minor": 2
}
