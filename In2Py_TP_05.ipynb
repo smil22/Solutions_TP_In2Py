{
 "cells": [
  {
   "cell_type": "markdown",
   "metadata": {
    "id": "QYZn2ujP9tcA"
   },
   "source": [
    "\n",
    "\n",
    "### <center> <b> <span style=\"color:blue;\"> Travaux Pratiques: Fonctions</span> </b></center>\n",
    "\n"
   ]
  },
  {
   "cell_type": "markdown",
   "metadata": {
    "id": "iMDzVKcl9tcE"
   },
   "source": [
    "#### **Exercice 00:**  \n",
    "> **Écrire une fonction `cube` qui retourne le cube de son argument.**"
   ]
  },
  {
   "cell_type": "code",
   "execution_count": 2,
   "metadata": {},
   "outputs": [
    {
     "name": "stdout",
     "output_type": "stream",
     "text": [
      "27\n"
     ]
    }
   ],
   "source": [
    "def cube(n):\n",
    "    \"\"\"Retourne le cube de n\"\"\"\n",
    "    return pow(n,3)\n",
    "print(cube(3))"
   ]
  },
  {
   "cell_type": "markdown",
   "metadata": {
    "id": "m1ac89qS9tcH"
   },
   "source": [
    "#### **Exercice 01:**  \n",
    "> **Déclarez une fonction `ajouter_deux_nombres`. Elle prend deux paramètres et renvoie leur somme.**"
   ]
  },
  {
   "cell_type": "code",
   "execution_count": 6,
   "metadata": {
    "id": "E_AgGmNy9tcH"
   },
   "outputs": [
    {
     "name": "stdout",
     "output_type": "stream",
     "text": [
      "15\n"
     ]
    }
   ],
   "source": [
    "def ajouter_deux_nombres(a,b):\n",
    "    \"\"\"Retourne la somme de a et b\"\"\"\n",
    "    return a+b\n",
    "print(ajouter_deux_nombres(8,7))"
   ]
  },
  {
   "cell_type": "markdown",
   "metadata": {
    "id": "PKjvAV4y9tcJ"
   },
   "source": [
    "#### **Exercice 02:**  \n",
    "> **L'aire d'un cercle se calcule comme suit : aire = pi x r x r avec pi=3,14. Écrivez une fonction `aire_du_cercle` qui prend le rayon en argument et calcule l'aire du cercle correspodant.**"
   ]
  },
  {
   "cell_type": "code",
   "execution_count": 8,
   "metadata": {
    "id": "AxGzHKXX9tcL"
   },
   "outputs": [
    {
     "name": "stdout",
     "output_type": "stream",
     "text": [
      "50.26548245743669\n"
     ]
    }
   ],
   "source": [
    "from math import pi\n",
    "def aire_du_cercle(r):\n",
    "    \"\"\"Retourne l'aire du cercle dont le rayon est r\"\"\"\n",
    "    return pi*r**2\n",
    "print(aire_du_cercle(4))"
   ]
  },
  {
   "cell_type": "markdown",
   "metadata": {
    "id": "6OBRL3oj9tcL"
   },
   "source": [
    "#### **Exercice 03:**  \n",
    "> **La température en °C peut être convertie en °F à l'aide de cette formule : °F = (°C x 9/5) + 32. Écrivez une fonction `convert_celsius_en_fahrenheit` qui convertit les °C en °F**."
   ]
  },
  {
   "cell_type": "code",
   "execution_count": 14,
   "metadata": {
    "colab": {
     "base_uri": "https://localhost:8080/"
    },
    "id": "LpDPEBxn9tcN",
    "outputId": "7c62c4a2-828a-4eea-e995-a89e3acda0ed"
   },
   "outputs": [
    {
     "name": "stdout",
     "output_type": "stream",
     "text": [
      "Enter the value in celsius 90\n",
      "194.0\n"
     ]
    }
   ],
   "source": [
    "C=float(input('Enter the value in celsius '))\n",
    "def convert_celsius_en_fahrenheit(C):\n",
    "    \"\"\"Convert a temperature from celsius to fahrenheit\"\"\"\n",
    "    return (C*9/5)+32\n",
    "print(convert_celsius_en_fahrenheit(C))"
   ]
  },
  {
   "cell_type": "markdown",
   "metadata": {
    "id": "rJRPsZ2h9tcP"
   },
   "source": [
    "#### **Exercice 04:** \n",
    ">**Écrire une fonction somme avec un argument « tuple de longueur variable » qui calcule la somme des nombres contenus dans le tuple.Tester cette fonction par des appels avec différents tuples d’entiers ou de flottants.**"
   ]
  },
  {
   "cell_type": "code",
   "execution_count": 15,
   "metadata": {
    "colab": {
     "base_uri": "https://localhost:8080/"
    },
    "id": "7qn8Czdc9tcP",
    "outputId": "998d9d34-3e4c-4a64-f02e-9faa0ff36abe"
   },
   "outputs": [
    {
     "name": "stdout",
     "output_type": "stream",
     "text": [
      "15\n",
      "19.5\n"
     ]
    }
   ],
   "source": [
    "def somme(t):\n",
    "    \"\"\"Retourne la somme des éléments d'un tuple\"\"\"\n",
    "    s = 0\n",
    "    for x in t:\n",
    "        s = s + x\n",
    "    return s\n",
    "print(somme((4,5,6)))\n",
    "print(somme((4.5,9,6)))"
   ]
  },
  {
   "cell_type": "markdown",
   "metadata": {
    "id": "kls1kYNh9tcR"
   },
   "source": [
    "#### **Exercice 05:** \n",
    ">**Ecrire `somme_liste` qui calcule la somme des nombres contenus dans une liste.Tester cette fonction par des appels avec différents listes d’entiers ou de flottants.**"
   ]
  },
  {
   "cell_type": "code",
   "execution_count": 18,
   "metadata": {},
   "outputs": [
    {
     "name": "stdout",
     "output_type": "stream",
     "text": [
      "15\n",
      "19.5\n"
     ]
    }
   ],
   "source": [
    "def somme_liste(L):\n",
    "    \"\"\"Retourne la somme des éléments d'une liste\"\"\"\n",
    "    s = 0\n",
    "    for x in L:\n",
    "        s = s + x\n",
    "    return s\n",
    "print(somme_liste([4,5,6]))\n",
    "print(somme_liste([4.5,9,6]))"
   ]
  },
  {
   "cell_type": "markdown",
   "metadata": {
    "id": "l4gQECfk9tcS"
   },
   "source": [
    "#### **Exercice 06:** \n",
    ">**Écrire une fonction somme qui  prend en argument un entier $n$ et retourne la somme  des $n$-prémiers entiers naturels.**"
   ]
  },
  {
   "cell_type": "code",
   "execution_count": 21,
   "metadata": {},
   "outputs": [
    {
     "name": "stdout",
     "output_type": "stream",
     "text": [
      "10.0\n"
     ]
    }
   ],
   "source": [
    "def n_ieme_entier(n):\n",
    "    \"\"\"Retourne la somme des 𝑛-prémiers entiers naturels\"\"\"\n",
    "    return ((n*(n-1))/2)\n",
    "print(n_ieme_entier(5))"
   ]
  },
  {
   "cell_type": "markdown",
   "metadata": {
    "id": "tK9EsjZf9tcU"
   },
   "source": [
    "#### **Exercice 07:** \n",
    ">**Écrire une fonction `nom` qui demande à l'utilisateur d'entrer son nom ensuite son prénom et affiche son prénom suivit de son nom.**"
   ]
  },
  {
   "cell_type": "code",
   "execution_count": 22,
   "metadata": {},
   "outputs": [
    {
     "name": "stdout",
     "output_type": "stream",
     "text": [
      "Votre nom: AZALOU\n",
      "Votre prénom: Yèyinon\n",
      "('Yèyinon', 'AZALOU')\n"
     ]
    }
   ],
   "source": [
    "def demande_nom_prenom():\n",
    "    \"\"\"Retourne le prénom suivi du nom\"\"\"\n",
    "    nom = input(\"Votre nom: \")\n",
    "    prenom = input(\"Votre prénom: \")\n",
    "    return prenom,nom\n",
    "print(demande_nom_prenom())"
   ]
  },
  {
   "cell_type": "markdown",
   "metadata": {
    "id": "YSwrwcEz9tcX"
   },
   "source": [
    "#### **Exercice 08:** \n",
    ">**Écrire une fonction `nom` qui demande à l'utilisateur d'entrer son nom ensuite son prénom et affiche son prénom suivit de son nom.**"
   ]
  },
  {
   "cell_type": "code",
   "execution_count": 23,
   "metadata": {
    "id": "mRk-8h1P9tcZ"
   },
   "outputs": [
    {
     "name": "stdout",
     "output_type": "stream",
     "text": [
      "Votre nom: AZALOU\n",
      "Votre prénom: Yèyinon\n",
      "('Yèyinon', 'AZALOU')\n"
     ]
    }
   ],
   "source": [
    "def demande_nom_prenom():\n",
    "    \"\"\"Retourne le prénom suivi du nom\"\"\"\n",
    "    nom = input(\"Votre nom: \")\n",
    "    prenom = input(\"Votre prénom: \")\n",
    "    return prenom,nom\n",
    "print(demande_nom_prenom())"
   ]
  },
  {
   "cell_type": "markdown",
   "metadata": {
    "id": "VYtzHXAd9tck"
   },
   "source": [
    "#### **Exercice 09:** \n",
    ">**Ecris une fonction `Maximum` qui renvoie le minimum de trois nombres.**"
   ]
  },
  {
   "cell_type": "code",
   "execution_count": 25,
   "metadata": {},
   "outputs": [
    {
     "name": "stdout",
     "output_type": "stream",
     "text": [
      "7\n"
     ]
    }
   ],
   "source": [
    "def Maximum(a,b,c):\n",
    "    \"\"\"Retourne le maximum de a,b,c\"\"\"\n",
    "    return max(a,b,c)\n",
    "print(Maximum(7,5,0))"
   ]
  },
  {
   "cell_type": "markdown",
   "metadata": {
    "id": "gTpTAnGm9tcm"
   },
   "source": [
    "#### **Exercice 10:**\n",
    ">**Soit $f(x)=ax^2+bx+c$ un trinôme du second degré.**\n",
    " 1. **Ecris une fonction `Discriminant` qui calcule son discriminant.**\n",
    " 2. **Ecris ensuite une fonction `existence_des_racines_du_trinome` qui discute suivant les valeurs du discriminant, l'existence de ses racines.** \n"
   ]
  },
  {
   "cell_type": "code",
   "execution_count": 28,
   "metadata": {},
   "outputs": [
    {
     "name": "stdout",
     "output_type": "stream",
     "text": [
      "Désolé, pas de racine réelle.\n"
     ]
    }
   ],
   "source": [
    "from math import sqrt\n",
    "def f(a,b,c,x):\n",
    "    \"\"\"Calcule f(x)\"\"\"\n",
    "    return a*x**2 + b*x + c\n",
    "\n",
    "def Discriminant(a,b,c):\n",
    "    \"\"\"Retourne le discriminant de f(x)\"\"\"\n",
    "    if(a != 0):\n",
    "        delta = b**2 - 4*a*c\n",
    "        return delta\n",
    "\n",
    "def existence_des_racines_du_trinome(a,b,c):\n",
    "    \"\"\"Discute suivant les valeurs du discriminant, l'existence de ses racines\"\"\"\n",
    "    delta = Discriminant(a,b,c)\n",
    "    if(a != 0):\n",
    "        if(delta < 0):\n",
    "            print(\"Désolé, pas de racine réelle.\")\n",
    "        elif(delta == 0):\n",
    "            print(\"Racine double.\")\n",
    "            print(-b/(2*a))\n",
    "        else:\n",
    "            print(\"Deux racines distinctes.\")\n",
    "            print((-b - sqrt(delta))/(2*a), (-b + sqrt(delta))/(2*a))\n",
    "            \n",
    "delta = Discriminant(3,5,7)\n",
    "existence_des_racines_du_trinome(3, 5,7)"
   ]
  },
  {
   "cell_type": "markdown",
   "metadata": {
    "id": "WgJ06GHA9tcn"
   },
   "source": [
    "#### **Exercice 11:**\n",
    ">**Ecris une fonction qui affiche le reste de la division euclidienne d'un entier naturel $a$ par un entier naturel $b$**.\n"
   ]
  },
  {
   "cell_type": "code",
   "execution_count": 30,
   "metadata": {
    "id": "S1uM-Jca9tcn"
   },
   "outputs": [
    {
     "name": "stdout",
     "output_type": "stream",
     "text": [
      "3\n"
     ]
    }
   ],
   "source": [
    "def affiche_reste(a, b):\n",
    "    \"\"\"Affiche le reste de la division euclidienne d'un entier naturel 𝑎 par un entier naturel 𝑏\"\"\"\n",
    "    print(a % b)\n",
    "\n",
    "affiche_reste(8,5)"
   ]
  },
  {
   "cell_type": "markdown",
   "metadata": {
    "id": "dtC_cOVJ9tco"
   },
   "source": [
    "#### **Exercice 12:**\n",
    ">**Ecris une fonction `terme_suite_geometrique` qui affiche le n-ième terme d'une suite géométrique $(v_n)$ de premier terme $v_0$ et de raison $q$. Teste ce programme pour $v_0=2, q=3$ et $n=4$.**"
   ]
  },
  {
   "cell_type": "code",
   "execution_count": 32,
   "metadata": {
    "id": "TeLDRV8N9tco"
   },
   "outputs": [
    {
     "name": "stdout",
     "output_type": "stream",
     "text": [
      "162\n"
     ]
    }
   ],
   "source": [
    "def terme_suite_geometrique(v0, q, n):\n",
    "    \"\"\"Affiche le n-ième terme d'une suite géométrique (𝑣𝑛) de premier terme 𝑣0 et de raison 𝑞\"\"\"\n",
    "    print(v0 * pow(q,n))\n",
    "terme_suite_geometrique(2,3,4)"
   ]
  },
  {
   "cell_type": "markdown",
   "metadata": {
    "id": "GrmGuHwu9tco"
   },
   "source": [
    "#### **Exercice 13:**\n",
    ">**Écris une fonction `merci` prend en paramètre un `nom` et renvoie le message \"Merci pour votre présence à cet atelier,`nom`.**\n"
   ]
  },
  {
   "cell_type": "code",
   "execution_count": 33,
   "metadata": {},
   "outputs": [
    {
     "name": "stdout",
     "output_type": "stream",
     "text": [
      "Merci pour votre présence à cet atelier, bâtard\n"
     ]
    }
   ],
   "source": [
    "def merci(nom):\n",
    "    print(\"Merci pour votre présence à cet atelier,\", nom)\n",
    "merci(\"bâtard\")"
   ]
  },
  {
   "cell_type": "markdown",
   "metadata": {
    "id": "T3jopRLc9tco"
   },
   "source": [
    "#### **Exercice 14:**\n",
    ">**Écris une fonction `ma_suite` qui définit la suite $(u_n)$ telle que  $$u_{n}=\\frac{2n^2+3n-1}{n+6}.$$\n",
    "Affiche son 5e terme.**\n"
   ]
  },
  {
   "cell_type": "code",
   "execution_count": null,
   "metadata": {
    "id": "P1l82riw9tcp"
   },
   "outputs": [],
   "source": [
    "def ma_suite(n):\n",
    "    return (2*n**2 + 3*n - 1)/(n+6)\n"
   ]
  },
  {
   "cell_type": "markdown",
   "metadata": {
    "id": "SIizzU_A9tcp"
   },
   "source": [
    "\n",
    "\n",
    "<center> <b> <span style=\"color:orange;\"> 🎉 FÉLICITATIONS ! 🎉 </span> </b></center>"
   ]
  }
 ],
 "metadata": {
  "colab": {
   "collapsed_sections": [],
   "name": "In2Py_TP_05.ipynb",
   "provenance": []
  },
  "kernelspec": {
   "display_name": "Python 3",
   "language": "python",
   "name": "python3"
  },
  "language_info": {
   "codemirror_mode": {
    "name": "ipython",
    "version": 3
   },
   "file_extension": ".py",
   "mimetype": "text/x-python",
   "name": "python",
   "nbconvert_exporter": "python",
   "pygments_lexer": "ipython3",
   "version": "3.6.9"
  }
 },
 "nbformat": 4,
 "nbformat_minor": 5
}
