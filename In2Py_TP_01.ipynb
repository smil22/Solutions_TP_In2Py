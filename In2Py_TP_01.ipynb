{
 "cells": [
  {
   "cell_type": "markdown",
   "metadata": {
    "colab_type": "text",
    "id": "view-in-github"
   },
   "source": [
    "<a href=\"https://colab.research.google.com/github/gabayae/colab-notebooks-in2py/blob/main/In2Py_TP_01.ipynb\" target=\"_parent\"><img src=\"https://colab.research.google.com/assets/colab-badge.svg\" alt=\"Open In Colab\"/></a>"
   ]
  },
  {
   "cell_type": "markdown",
   "metadata": {
    "id": "22f02e1a"
   },
   "source": [
    "\n",
    "### <center> <b> <span style=\"color:blue;\"> Travaux Pratiques: Variables, Types & Opérations </span> </b></center>"
   ]
  },
  {
   "cell_type": "markdown",
   "metadata": {
    "id": "ddc667e7"
   },
   "source": [
    "**Exercise 00:**  \n",
    ">\n",
    "\n",
    "  \n",
    "> 1. Déclarez une variable `prenom` et attribuez-lui une valeur.\n",
    "  > 2. Déclarez une variable `nom` et attribuez-lui une valeur.\n",
    "  > 3. Déclarez une variable `prenom_nom` et attribuez-lui une valeur.\n",
    "  > 4. Déclarez une variable `pays` et attribuez-lui une valeur.\n",
    "  > 5. Déclarez une variable `ville` et attribuez-lui une valeur.\n",
    "  > 6. Déclarez une variable `age` et attribuez-lui une valeur.\n",
    "  > 7. Déclarez une variable `annee` et attribuez-lui une valeur.\n",
    "  > 8. Déclarez une variable `est_marie` et attribuez-lui une valeur.\n",
    "  > 9. Déclarez une variable `est_vrai` et attribuez-lui une valeur.\n",
    "\n",
    "> Pour chacune des variables ci-dessus, affichez la valeur qu'elle contient à l'aide de la fonction `print()`.\n",
    "\n"
   ]
  },
  {
   "cell_type": "code",
   "execution_count": 2,
   "metadata": {
    "id": "ebd3951d"
   },
   "outputs": [
    {
     "name": "stdout",
     "output_type": "stream",
     "text": [
      "Bâtard\n",
      "BÂTARD\n",
      "Bâtard BÂTARD\n",
      "Bâtards Land\n",
      "Bâtard Town\n",
      "2222\n",
      "22222222\n",
      "False\n",
      "True\n"
     ]
    }
   ],
   "source": [
    "prenom = \"Bâtard\"\n",
    "nom = \"BÂTARD\"\n",
    "prenom_nom = \"Bâtard BÂTARD\"\n",
    "pays = \"Bâtards Land\"\n",
    "ville = \"Bâtard Town\"\n",
    "age = 2222\n",
    "annee = 22222222\n",
    "est_marie = False\n",
    "est_vrai = True\n",
    "\n",
    "print(prenom)\n",
    "print(nom) \n",
    "print(prenom_nom)\n",
    "print(pays)\n",
    "print(ville)\n",
    "print(age)\n",
    "print(annee)\n",
    "print(est_marie)\n",
    "print(est_vrai)"
   ]
  },
  {
   "cell_type": "markdown",
   "metadata": {
    "id": "85eb4f96"
   },
   "source": [
    "**Exercise 01:** \n",
    "> Vérifiez le type de données de toutes vos variables à l'aide de la fonction intégrée `type()`.**\n"
   ]
  },
  {
   "cell_type": "code",
   "execution_count": 8,
   "metadata": {
    "id": "c5c47124",
    "scrolled": true
   },
   "outputs": [
    {
     "name": "stdout",
     "output_type": "stream",
     "text": [
      "<type 'str'>\n",
      "<type 'str'>\n",
      "<type 'str'>\n",
      "<type 'str'>\n",
      "<type 'int'>\n",
      "<type 'int'>\n",
      "<type 'bool'>\n",
      "<type 'bool'>\n"
     ]
    }
   ],
   "source": [
    "print(type(prenom))\n",
    "print(type(nom))\n",
    "print(type(prenom_nom))\n",
    "print(type(ville))\n",
    "print(type(age))\n",
    "print(type (annee))\n",
    "print(type(est_marie))\n",
    "print(type(est_vrai))\n",
    "# Décommenter pour avoir le type "
   ]
  },
  {
   "cell_type": "markdown",
   "metadata": {
    "id": "76cdc19b"
   },
   "source": [
    "**Exercise 02:** \n",
    "> Calculez la valeur de $y$ ($y = x^2 + 6x + 9$). Essayez d'utiliser différentes valeurs de $x$ et déterminez à quelle valeur de $x$ $y$ sera égal à 0.**"
   ]
  },
  {
   "cell_type": "code",
   "execution_count": 10,
   "metadata": {
    "id": "fb4df11a"
   },
   "outputs": [
    {
     "name": "stdout",
     "output_type": "stream",
     "text": [
      "0\n"
     ]
    }
   ],
   "source": [
    "x = -3\n",
    "y = x**2 + 6*x + 9\n",
    "print(y)"
   ]
  },
  {
   "cell_type": "markdown",
   "metadata": {
    "id": "8f40e3ab"
   },
   "source": [
    "**Exercise 03:** \n",
    ">    \n",
    "\n",
    "     1. Déclarez votre âge sous forme de variable entière\n",
    "     2. Déclarez votre taille en tant que variable flottante\n",
    "     3. Déclarez une variable qui stocke la base et la hauteur d'un triangle. Calculez l'aire de ce triangle (aire = 0,5 x b x h)."
   ]
  },
  {
   "cell_type": "code",
   "execution_count": 11,
   "metadata": {
    "collapsed": true,
    "id": "rpAlhgG_9A5z"
   },
   "outputs": [
    {
     "name": "stdout",
     "output_type": "stream",
     "text": [
      "4.0\n"
     ]
    }
   ],
   "source": [
    "mon_age = 200\n",
    "ma_taille = 60.5\n",
    "b,h = 4,2\n",
    "aire = 0.5 * b * h\n",
    "print(aire)"
   ]
  },
  {
   "cell_type": "markdown",
   "metadata": {
    "id": "9957391d"
   },
   "source": [
    "## *Astuce : recevoir les entrées de l'utilisateur *\n",
    "**Pour recevoir une entrée de l'utilisateur, nous utilisons `input()`.**.\n",
    "\n",
    "**Exemple**\n",
    "Recevez deux nombres en entrée de l'utilisateur et calculez leur puissance :\n",
    "```python\n",
    "base = input(\"Entrez une base : \")\n",
    "exposant = input(\"Entrez un exposant : \")\n",
    "resultat = float(base) ** float(exposant)\n",
    "print(f \"{base} à la puissance {exposant} = {résultat}\")\n",
    "```"
   ]
  },
  {
   "cell_type": "markdown",
   "metadata": {
    "id": "0fb34716"
   },
   "source": [
    "**Exercise 04:** \n",
    "> **Write a small code that asks the user to enter the side $a$, the side $b$ and the side $c$ of a triangle. Calculate the perimeter of the triangle (perimeter = a + b + c).**"
   ]
  },
  {
   "cell_type": "code",
   "execution_count": 14,
   "metadata": {
    "id": "6618f067"
   },
   "outputs": [
    {
     "name": "stdout",
     "output_type": "stream",
     "text": [
      "Bienvenue au centre de calcul du périmètre d'un triangle !\n",
      "Entrez la valeur du premier côté: 4\n",
      "Entrez la valeur du deuxième côté: 2\n",
      "Entrez la valeur du troisième côté: 1\n",
      "7\n"
     ]
    }
   ],
   "source": [
    "print(\"Bienvenue au centre de calcul du périmètre d'un triangle !\")\n",
    "a = input(\"Entrez la valeur du premier côté: \")\n",
    "b = input(\"Entrez la valeur du deuxième côté: \")\n",
    "c = input(\"Entrez la valeur du troisième côté: \")\n",
    "perimetre = a+b+c\n",
    "print(perimetre)"
   ]
  },
  {
   "cell_type": "markdown",
   "metadata": {
    "id": "e482c15c"
   },
   "source": [
    "**Exercise 05:** \n",
    "> **Obtenez la longueur et la largeur d'un rectangle à l'aide de l'invite. Calculer sa `superficie` et son `perimetre`.**"
   ]
  },
  {
   "cell_type": "code",
   "execution_count": 17,
   "metadata": {
    "id": "286cec4c"
   },
   "outputs": [
    {
     "name": "stdout",
     "output_type": "stream",
     "text": [
      "Bienvenue au centre de calcul du périmètre et de la superficie d'un rectangle !\n",
      "Entrez la valeur de la longueur: 4.5\n",
      "Entrez la valeur de la largeur: 2\n",
      "Le périmètre est 13.0 et la superficie est 9.0\n"
     ]
    }
   ],
   "source": [
    "print(\"Bienvenue au centre de calcul du périmètre et de la superficie d'un rectangle !\")\n",
    "L = input(\"Entrez la valeur de la longueur: \")\n",
    "l = input(\"Entrez la valeur de la largeur: \")\n",
    "perimetre = 2 * (L + l)\n",
    "superficie = L * l\n",
    "print(\"Le périmètre est \" + str(perimetre) + \" et la superficie est \" + str(superficie))"
   ]
  },
  {
   "cell_type": "markdown",
   "metadata": {
    "id": "cf15844c"
   },
   "source": [
    "**Exercice 06:** \n",
    "> **Obtenez le rayon d'un cercle en utilisant l'invite. Calculez l'aire (aire = pi x r x r) et la circonférence (c = 2 x pi x r) où pi = 3,14.**"
   ]
  },
  {
   "cell_type": "code",
   "execution_count": 18,
   "metadata": {
    "id": "ee0ee85e"
   },
   "outputs": [
    {
     "name": "stdout",
     "output_type": "stream",
     "text": [
      "Bienvenue au centre de calcul de l'aire et de la circonférence d'un cercle !\n",
      "Entrez la valeur du rayon: 4\n",
      "La circonférence est 25.1327412287 et l'aire est 50.2654824574\n"
     ]
    }
   ],
   "source": [
    "from math import pi\n",
    "print(\"Bienvenue au centre de calcul de l'aire et de la circonférence d'un cercle !\")\n",
    "r = input(\"Entrez la valeur du rayon: \")\n",
    "c = 2 * pi * r\n",
    "aire = pi * r * r\n",
    "print(\"La circonférence est \" + str(c) + \" et l'aire est \" + str(aire))\n"
   ]
  },
  {
   "cell_type": "markdown",
   "metadata": {
    "id": "d9dec37a"
   },
   "source": [
    "**Exercice 07:**\n",
    "> **Calculez la pente, l'ordonnée à l'origine en x et l'ordonnée à l'origine en $y$ de $y = 2x -2$.**"
   ]
  },
  {
   "cell_type": "code",
   "execution_count": 21,
   "metadata": {
    "id": "203e449c"
   },
   "outputs": [
    {
     "name": "stdout",
     "output_type": "stream",
     "text": [
      "L'ordonnée à l'origine en x est : -2\n",
      "La pente est : 2\n"
     ]
    }
   ],
   "source": [
    "x1 = 0\n",
    "y1 = 2*x1 - 2\n",
    "print(\"L'ordonnée à l'origine en x est : \" + str(y1))\n",
    "y2 = 0\n",
    "x2 = (y2 + 2) / 2\n",
    "pente = (y2 - y1) / (x2 - x1)\n",
    "print(\"La pente est : \" + str(pente))"
   ]
  },
  {
   "cell_type": "markdown",
   "metadata": {
    "id": "2f74d685"
   },
   "source": [
    "**Exercice 08:** \n",
    "> **Rédigez un script qui demande à l'utilisateur d'entrer les heures et le taux horaire. Calculez la rémunération de la personne ?**"
   ]
  },
  {
   "cell_type": "code",
   "execution_count": 22,
   "metadata": {
    "id": "7cff5a0a"
   },
   "outputs": [
    {
     "name": "stdout",
     "output_type": "stream",
     "text": [
      "Vous travaillez pendant combien d'heures : 4\n",
      "Combien gagnez-vous par heure ? 150\n",
      "Votre salaire est : 600\n"
     ]
    }
   ],
   "source": [
    "heure = input(\"Vous travaillez pendant combien d'heures : \")\n",
    "taux_h = input(\"Combien gagnez-vous par heure ? \")\n",
    "remuneration = taux_h * heure\n",
    "print(\"Votre salaire est : \" + str(remuneration))"
   ]
  },
  {
   "cell_type": "markdown",
   "metadata": {
    "id": "6ddd662c"
   },
   "source": [
    "**Exercice 09:** \n",
    "> **Écrivez un script qui demande à l'utilisateur d'entrer le nombre d'années. Calculez le nombre de secondes qu'une personne peut vivre. Supposons qu'une personne puisse vivre cent ans.**"
   ]
  },
  {
   "cell_type": "code",
   "execution_count": 27,
   "metadata": {
    "id": "44c2a63c"
   },
   "outputs": [
    {
     "name": "stdout",
     "output_type": "stream",
     "text": [
      "Pendant combien d'année(s) avez-vous vécu ? 100\n",
      "Vous avez vécu 3153600000 secondes !\n"
     ]
    }
   ],
   "source": [
    "age = input(\"Pendant combien d'année(s) avez-vous vécu ? \")\n",
    "if(age > 100):\n",
    "    print(\"Désolé, j'ai une limite d'âge.\")\n",
    "else:\n",
    "    resultat = age * 365 * 24 * 60 * 60\n",
    "    print(\"Vous avez vécu \" + str(resultat) + \" secondes !\")"
   ]
  },
  {
   "cell_type": "markdown",
   "metadata": {
    "id": "9b253387"
   },
   "source": [
    "**Exercice 10:** \n",
    "> **Écrivez un script Python qui affiche le tableau suivant**\n",
    "\n",
    "    1 1 1 1 1\n",
    "    \n",
    "    2 1 2 4 8\n",
    "    \n",
    "    3 1 3 9 27\n",
    "    \n",
    "    4 1 4 16 64\n",
    "    \n",
    "    5 1 5 25 125"
   ]
  },
  {
   "cell_type": "code",
   "execution_count": 3,
   "metadata": {
    "id": "aa2dae84"
   },
   "outputs": [
    {
     "name": "stdout",
     "output_type": "stream",
     "text": [
      "[1, 1, 1, 1]\n",
      "[2, 1, 2, 4, 8]\n",
      "[3, 1, 3, 9, 27]\n",
      "[4, 1, 4, 16, 64]\n",
      "[5, 1, 5, 25, 125]\n"
     ]
    }
   ],
   "source": [
    "tab = ([1, 1, 1, 1], [2, 1, 2, 4, 8], [3, 1, 3, 9, 27], [4, 1, 4, 16, 64], [5, 1, 5, 25, 125])\n",
    "print(tab[0])\n",
    "print(tab[1])\n",
    "print(tab[2])\n",
    "print(tab[3])\n",
    "print(tab[4])"
   ]
  },
  {
   "cell_type": "markdown",
   "metadata": {
    "id": "953e7d8c"
   },
   "source": [
    "**Exercise 11:** \n",
    ">**Attribuez aux variables `temps` et `distance` les valeurs $6.892$ et $19.7$. Calculer et afficher la valeur de la vitesse. Améliorer l'affichage en imposant un chiffre après la virgule.**"
   ]
  },
  {
   "cell_type": "code",
   "execution_count": 32,
   "metadata": {
    "id": "6d787289"
   },
   "outputs": [
    {
     "name": "stdout",
     "output_type": "stream",
     "text": [
      "2.858\n"
     ]
    }
   ],
   "source": [
    "temps = 6.892\n",
    "distance = 19.7\n",
    "vitesse = distance / temps\n",
    "print(round(vitesse, 3))"
   ]
  },
  {
   "cell_type": "markdown",
   "metadata": {
    "id": "2d0f1ff9"
   },
   "source": [
    "**Exercice 12:** \n",
    "> **Écrire un programme qui, à partir de la saisie d’un rayon et d’une hauteur, calcule levolume d’un cône droit.**"
   ]
  },
  {
   "cell_type": "code",
   "execution_count": 33,
   "metadata": {
    "id": "969f5f68"
   },
   "outputs": [
    {
     "name": "stdout",
     "output_type": "stream",
     "text": [
      "Bienvenue au centre de calcul du volume d'un cône !\n",
      "Entrez le rayon: 5\n",
      "Entrez la hauteur: 4\n",
      "Le volume est 104.71975512\n"
     ]
    }
   ],
   "source": [
    "from math import pi\n",
    "print(\"Bienvenue au centre de calcul du volume d'un cône !\")\n",
    "r = input(\"Entrez le rayon: \")\n",
    "h = input(\"Entrez la hauteur: \")\n",
    "volume = (pi * r * r * h) / 3\n",
    "print(\"Le volume est \" + str(volume))"
   ]
  },
  {
   "cell_type": "markdown",
   "metadata": {
    "id": "e9b3ce2a"
   },
   "source": [
    "**Exercise 13:** \n",
    "> **L'utilisateur donne un entier positif et le programme annonce combien de fois de suite cet entier est divisible par 2.**"
   ]
  },
  {
   "cell_type": "code",
   "execution_count": 12,
   "metadata": {
    "id": "5c8fea9a",
    "scrolled": true
   },
   "outputs": [
    {
     "name": "stdout",
     "output_type": "stream",
     "text": [
      "Donnez un entier positif: 14\n",
      "Cet entier est divisible par 2, 1 fois.\n"
     ]
    }
   ],
   "source": [
    "cpt = 0\n",
    "x = input(\"Donnez un entier positif: \")\n",
    "while(x % 2 == 0):\n",
    "    cpt = cpt + 1\n",
    "    x = x / 2\n",
    "print(\"Cet entier est divisible par 2, \" + str(cpt) + \" fois.\")"
   ]
  },
  {
   "cell_type": "markdown",
   "metadata": {
    "id": "0485aed6"
   },
   "source": [
    "**Exercise 14:** \n",
    ">**L'utilisateur donne un nombre entier entre 2 et 12, le programme donne le nombre de façons de le faire en lançant deux dés.**"
   ]
  },
  {
   "cell_type": "code",
   "execution_count": 15,
   "metadata": {
    "id": "31f48a15"
   },
   "outputs": [
    {
     "name": "stdout",
     "output_type": "stream",
     "text": [
      "Entrez un nombre entier entre 2 et 12: 5\n",
      "Il y a 4 façons de le faire en lançant 2 dés. \n"
     ]
    }
   ],
   "source": [
    "x = input(\"Entrez un nombre entier entre 2 et 12: \")\n",
    "if(x < 2 or x > 12):\n",
    "    print(\"Vous n'avez pas entré un entier correct.\")\n",
    "else:\n",
    "    if(x % 2 == 0):\n",
    "        reponse = (x-1) + 1\n",
    "    else:\n",
    "        reponse = x-1\n",
    "print(\"Il y a \" + str(reponse) + \" façons de le faire en lançant 2 dés. \")"
   ]
  },
  {
   "cell_type": "markdown",
   "metadata": {
    "id": "cead0c8f"
   },
   "source": [
    "**Exercice 15:** \n",
    "> **Utilisez la fonction d'entrée intégrée `input()` pour obtenir le `_prénom_`, le `_nom_`, le `_pays_d_origine` et l'`_age_` d'un utilisateur et stockez la valeur dans les noms des variables correspondantes.**"
   ]
  },
  {
   "cell_type": "code",
   "execution_count": 16,
   "metadata": {
    "id": "0a2694a9"
   },
   "outputs": [
    {
     "name": "stdout",
     "output_type": "stream",
     "text": [
      "Entrez le prénom: Aklassou\n",
      "Entrez le nom: TOKPASSI\n",
      "Entrez le pays: BABAMÈ\n",
      "Entrez l'âge: 112\n"
     ]
    }
   ],
   "source": [
    "prenom = raw_input(\"Entrez le prénom: \")\n",
    "nom = raw_input(\"Entrez le nom: \")\n",
    "pays = raw_input(\"Entrez le pays: \")\n",
    "age = raw_input(\"Entrez l'âge: \")"
   ]
  },
  {
   "cell_type": "markdown",
   "metadata": {
    "id": "33240a56"
   },
   "source": [
    "**Exercice 16:** \n",
    "\n",
    "**Déclarer $5$ comme `num_one` et $4$ comme `num_two`**\n",
    "\n",
    "   1. Additionner `num_one` et `num_two` et affecter la valeur à une variable `totale`.\n",
    "   2. Soustraire `num_two` de `num_one` et affecter la valeur à une variable `diff`.\n",
    "   3. Multipliez le `num_one` et le `num_two` et attribuez la valeur à une variable `produit`.\n",
    "   4. Divisez le `num_one` par le `num_two` et attribuez la valeur à une variable `division`.\n",
    "   5. Calculez `num_one` à la puissance de `num_two` et attribuez la valeur à une variable `exp`."
   ]
  },
  {
   "cell_type": "code",
   "execution_count": 44,
   "metadata": {
    "id": "c2f3e814"
   },
   "outputs": [
    {
     "name": "stdout",
     "output_type": "stream",
     "text": [
      "625\n"
     ]
    }
   ],
   "source": [
    "num_one = 5\n",
    "num_two = 4\n",
    "totale = num_one + num_two\n",
    "diff = num_one - num_two\n",
    "produit = num_one * num_two\n",
    "division = num_one / num_two\n",
    "exp = num_one**num_two"
   ]
  },
  {
   "cell_type": "markdown",
   "metadata": {
    "id": "80763237"
   },
   "source": [
    "<center> <b> <span style=\"color:orange;\"> 🎉 FÉLICITATIONS! 🎉 </span> </b></center>"
   ]
  }
 ],
 "metadata": {
  "colab": {
   "collapsed_sections": [],
   "include_colab_link": true,
   "name": "In2Py_TP_01.ipynb",
   "provenance": []
  },
  "kernelspec": {
   "display_name": "Python 3",
   "language": "python",
   "name": "python3"
  },
  "language_info": {
   "codemirror_mode": {
    "name": "ipython",
    "version": 2
   },
   "file_extension": ".py",
   "mimetype": "text/x-python",
   "name": "python",
   "nbconvert_exporter": "python",
   "pygments_lexer": "ipython2",
   "version": "2.7.17"
  }
 },
 "nbformat": 4,
 "nbformat_minor": 5
}
